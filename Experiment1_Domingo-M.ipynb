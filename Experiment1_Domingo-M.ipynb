{
 "cells": [
  {
   "cell_type": "code",
   "execution_count": 2,
   "id": "307ea67b-d91c-49d3-863b-17e589833448",
   "metadata": {},
   "outputs": [
    {
     "name": "stdin",
     "output_type": "stream",
     "text": [
      "Enter a word: ' mariedel\n"
     ]
    },
    {
     "name": "stdout",
     "output_type": "stream",
     "text": [
      "Sorted word in alphabetical order:  adeeilmr\n"
     ]
    }
   ],
   "source": [
    "#Problem 1: Alphabetical Soup\n",
    "\n",
    "#This function will help rearrange the word in alphabetical order \n",
    "def sort_string(input_string):\n",
    "    return''.join (sorted(input_string))\n",
    "\n",
    "#Ask user to input a word\n",
    "user_input=input (\"Enter a word: '\")\n",
    "\n",
    "#This funtion will sort the word in alphabetical order that the user input \n",
    "sorted_word=sort_string(user_input)\n",
    "\n",
    "#Function that displays the word sorted in alphabetical order \n",
    "print (\"Sorted word in alphabetical order: \", sorted_word)"
   ]
  },
  {
   "cell_type": "code",
   "execution_count": 3,
   "id": "f0914394-925d-4531-822c-724c17e825b9",
   "metadata": {},
   "outputs": [
    {
     "name": "stdin",
     "output_type": "stream",
     "text": [
      "Construct a sentence to replace the words with corresponding emoticons:  Im smile\n"
     ]
    },
    {
     "name": "stdout",
     "output_type": "stream",
     "text": [
      "Sentence using emoticons:  Im :)\n"
     ]
    }
   ],
   "source": [
    "#Problem 2: Emoticon \n",
    "#This will define the function \n",
    "def emoticon(text):\n",
    "    \n",
    "    #This function will replace the following words into emoticons\n",
    "    text = text.replace(\"smile\", \":)\")\n",
    "    text = text.replace(\"grin\", \":D\")\n",
    "    text = text.replace(\"sad\", \":((\")\n",
    "    text = text.replace(\"mad\", \">:(\")\n",
    "    \n",
    "    #Marks as the end of the function \n",
    "    return text\n",
    "    \n",
    "#Ask user to input a sentence\n",
    "user_sentence=input(\"Construct a sentence to replace the words with corresponding emoticons: \")\n",
    "\n",
    "#This function will replace the words with emoticons and display the output \n",
    "result_sentence=emoticon(user_sentence)\n",
    "\n",
    "print (\"Sentence using emoticons: \", result_sentence)"
   ]
  },
  {
   "cell_type": "code",
   "execution_count": 6,
   "id": "505cfc45-24fe-460f-855e-c27324a30470",
   "metadata": {},
   "outputs": [
    {
     "name": "stdin",
     "output_type": "stream",
     "text": [
      "Enter a list of variable seperated by spaces:  1 2 3 4 5 6\n"
     ]
    },
    {
     "name": "stdout",
     "output_type": "stream",
     "text": [
      "First Element:  1\n",
      "Middle Element:  [2, 3, 4, 5]\n",
      "Last Element:  6\n"
     ]
    }
   ],
   "source": [
    "#UNPACKING LIST PROBLEM\n",
    "\n",
    "#Ask user to input variable\n",
    "user_input=input(\"Enter a list of variable seperated by spaces: \")\n",
    "\n",
    "#This function will convert the input into a list of numbers \n",
    "number_list=list(map(int, user_input.split()))\n",
    "\n",
    "#This function will make sure the list have at least three elements to have a first, middle, and last \n",
    "if len (number_list) >= 3:\n",
    "    first, *middle, last=number_list \n",
    "    print(\"First Element: \" , first)\n",
    "    print (\"Middle Element: \", middle)\n",
    "    print(\"Last Element: \", last)\n",
    "else:\n",
    "    print(\"The list must have at least three elements.\")"
   ]
  },
  {
   "cell_type": "code",
   "execution_count": null,
   "id": "efb28622-df73-49a4-a798-9eb01318e060",
   "metadata": {},
   "outputs": [],
   "source": []
  }
 ],
 "metadata": {
  "kernelspec": {
   "display_name": "anaconda-2024.02-py310",
   "language": "python",
   "name": "conda-env-anaconda-2024.02-py310-py"
  },
  "language_info": {
   "codemirror_mode": {
    "name": "ipython",
    "version": 3
   },
   "file_extension": ".py",
   "mimetype": "text/x-python",
   "name": "python",
   "nbconvert_exporter": "python",
   "pygments_lexer": "ipython3",
   "version": "3.10.14"
  }
 },
 "nbformat": 4,
 "nbformat_minor": 5
}
